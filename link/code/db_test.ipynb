{
 "cells": [
  {
   "cell_type": "code",
   "execution_count": 1,
   "metadata": {},
   "outputs": [
    {
     "name": "stdout",
     "output_type": "stream",
     "text": [
      "Database version : 10.1.40-MariaDB-1~bionic \n"
     ]
    }
   ],
   "source": [
    "import pymysql\n",
    "\n",
    "# 開啟資料庫連線\n",
    "db = pymysql.connect(\"chatbot_db\",\"root\",\"123456\",\"\" )\n",
    " \n",
    "# 使用 cursor() 方法建立一個遊標物件 cursor\n",
    "cursor = db.cursor()\n",
    " \n",
    "# 使用 execute()  方法執行 SQL 查詢 \n",
    "cursor.execute(\"SELECT VERSION()\")\n",
    " \n",
    "# 使用 fetchone() 方法獲取單條資料.\n",
    "data = cursor.fetchone()\n",
    " \n",
    "print (\"Database version : %s \" % data)\n",
    " \n",
    "# 關閉資料庫連線\n",
    "db.close()"
   ]
  },
  {
   "cell_type": "code",
   "execution_count": null,
   "metadata": {},
   "outputs": [
    {
     "name": "stdout",
     "output_type": "stream",
     "text": [
      " * Serving Flask app \"__main__\" (lazy loading)\n",
      " * Environment: production\n",
      "   WARNING: Do not use the development server in a production environment.\n",
      "   Use a production WSGI server instead.\n",
      " * Debug mode: off\n"
     ]
    },
    {
     "name": "stderr",
     "output_type": "stream",
     "text": [
      " * Running on http://0.0.0.0:5000/ (Press CTRL+C to quit)\n",
      "172.31.0.1 - - [10/Jul/2019 12:47:23] \"GET / HTTP/1.1\" 200 -\n",
      "172.31.0.1 - - [10/Jul/2019 12:47:25] \"GET / HTTP/1.1\" 200 -\n",
      "172.31.0.1 - - [11/Jul/2019 00:48:15] \"GET / HTTP/1.1\" 200 -\n",
      "172.31.0.1 - - [11/Jul/2019 00:48:16] \"GET / HTTP/1.1\" 200 -\n",
      "172.31.0.1 - - [11/Jul/2019 00:48:17] \"GET / HTTP/1.1\" 200 -\n",
      "172.31.0.1 - - [11/Jul/2019 00:48:39] \"GET / HTTP/1.1\" 200 -\n",
      "172.31.0.1 - - [11/Jul/2019 00:48:39] \"GET / HTTP/1.1\" 200 -\n",
      "172.31.0.1 - - [11/Jul/2019 00:48:40] \"GET / HTTP/1.1\" 200 -\n",
      "172.31.0.1 - - [11/Jul/2019 00:48:40] \"GET / HTTP/1.1\" 200 -\n",
      "172.31.0.1 - - [11/Jul/2019 00:48:40] \"GET / HTTP/1.1\" 200 -\n",
      "172.31.0.1 - - [11/Jul/2019 00:48:40] \"GET / HTTP/1.1\" 200 -\n",
      "172.31.0.1 - - [11/Jul/2019 00:48:41] \"GET / HTTP/1.1\" 200 -\n",
      "172.31.0.1 - - [11/Jul/2019 00:48:41] \"GET / HTTP/1.1\" 200 -\n",
      "172.31.0.1 - - [11/Jul/2019 00:48:41] \"GET / HTTP/1.1\" 200 -\n",
      "172.31.0.1 - - [11/Jul/2019 00:48:41] \"GET / HTTP/1.1\" 200 -\n",
      "172.31.0.1 - - [11/Jul/2019 00:48:41] \"GET / HTTP/1.1\" 200 -\n",
      "172.31.0.1 - - [11/Jul/2019 00:48:41] \"GET / HTTP/1.1\" 200 -\n",
      "172.31.0.1 - - [11/Jul/2019 00:48:42] \"GET / HTTP/1.1\" 200 -\n",
      "172.31.0.1 - - [11/Jul/2019 00:48:42] \"GET / HTTP/1.1\" 200 -\n",
      "172.31.0.1 - - [11/Jul/2019 00:48:42] \"GET / HTTP/1.1\" 200 -\n",
      "172.31.0.1 - - [11/Jul/2019 00:48:42] \"GET / HTTP/1.1\" 200 -\n",
      "172.31.0.1 - - [11/Jul/2019 00:48:43] \"GET / HTTP/1.1\" 200 -\n",
      "172.31.0.1 - - [11/Jul/2019 00:48:43] \"GET / HTTP/1.1\" 200 -\n",
      "172.31.0.1 - - [11/Jul/2019 00:48:43] \"GET / HTTP/1.1\" 200 -\n",
      "172.31.0.1 - - [11/Jul/2019 00:48:43] \"GET / HTTP/1.1\" 200 -\n",
      "172.31.0.1 - - [11/Jul/2019 00:48:43] \"GET / HTTP/1.1\" 200 -\n",
      "172.31.0.1 - - [11/Jul/2019 00:48:43] \"GET / HTTP/1.1\" 200 -\n",
      "172.31.0.1 - - [11/Jul/2019 00:48:44] \"GET / HTTP/1.1\" 200 -\n",
      "172.31.0.1 - - [11/Jul/2019 00:48:44] \"GET / HTTP/1.1\" 200 -\n",
      "172.31.0.1 - - [11/Jul/2019 00:48:44] \"GET / HTTP/1.1\" 200 -\n",
      "172.31.0.1 - - [11/Jul/2019 00:48:44] \"GET / HTTP/1.1\" 200 -\n",
      "172.31.0.1 - - [11/Jul/2019 00:49:31] \"GET / HTTP/1.1\" 200 -\n",
      "172.31.0.1 - - [11/Jul/2019 00:49:32] \"GET / HTTP/1.1\" 200 -\n",
      "172.31.0.1 - - [11/Jul/2019 00:49:33] \"GET / HTTP/1.1\" 200 -\n"
     ]
    }
   ],
   "source": [
    "\"\"\"\n",
    "flask測試\n",
    "\"\"\"\n",
    "\n",
    "from flask import Flask, request, abort\n",
    "app = Flask(__name__)\n",
    "\n",
    "@app.route('/',methods=['GET'])\n",
    "def hello_world():\n",
    "    return '網頁測試成功～～～～～'\n",
    "\n",
    "if __name__ == \"__main__\":\n",
    "    app.run(host='0.0.0.0',port=5000)"
   ]
  }
 ],
 "metadata": {
  "kernelspec": {
   "display_name": "Python 3",
   "language": "python",
   "name": "python3"
  },
  "language_info": {
   "codemirror_mode": {
    "name": "ipython",
    "version": 3
   },
   "file_extension": ".py",
   "mimetype": "text/x-python",
   "name": "python",
   "nbconvert_exporter": "python",
   "pygments_lexer": "ipython3",
   "version": "3.7.3"
  }
 },
 "nbformat": 4,
 "nbformat_minor": 2
}
